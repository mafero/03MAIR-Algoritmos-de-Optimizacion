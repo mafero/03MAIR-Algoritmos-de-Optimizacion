{
  "nbformat": 4,
  "nbformat_minor": 0,
  "metadata": {
    "colab": {
      "name": "Algoritmos-AG1.ipynb",
      "provenance": [],
      "collapsed_sections": [],
      "mount_file_id": "1BbK8P1oPjCktH9ibAuPJhFmJQhACK8Nf",
      "authorship_tag": "ABX9TyNYXcewsuooyZgan5UJmM9m",
      "include_colab_link": true
    },
    "kernelspec": {
      "name": "python3",
      "display_name": "Python 3"
    }
  },
  "cells": [
    {
      "cell_type": "markdown",
      "metadata": {
        "id": "view-in-github",
        "colab_type": "text"
      },
      "source": [
        "<a href=\"https://colab.research.google.com/github/mafero/03MAIR-Algoritmos-de-Optimizacion/blob/main/Algoritmos_AG1.ipynb\" target=\"_parent\"><img src=\"https://colab.research.google.com/assets/colab-badge.svg\" alt=\"Open In Colab\"/></a>"
      ]
    },
    {
      "cell_type": "markdown",
      "metadata": {
        "id": "35CVjV7Gp-U4"
      },
      "source": [
        "# Actividad Guiada 1 - Algoritmos de optimización\r\n",
        "\r\n",
        "Nombre: Manuel Fernández Rodríguez <br>\r\n",
        "URL:  https://colab.research.google.com/drive/1BbK8P1oPjCktH9ibAuPJhFmJQhACK8Nf?usp=sharing\r\n",
        "\r\n",
        "GitHub:\r\n",
        "https://github.com/mafero/03MAIR-Algoritmos-de-Optimizacion\r\n",
        "\r\n"
      ]
    },
    {
      "cell_type": "code",
      "metadata": {
        "id": "3GX-hnErrHNW"
      },
      "source": [
        ""
      ],
      "execution_count": null,
      "outputs": []
    },
    {
      "cell_type": "markdown",
      "metadata": {
        "id": "l0g0Lix-vVxT"
      },
      "source": [
        "## Torres de Hanoi con Divide y vencerás"
      ]
    },
    {
      "cell_type": "code",
      "metadata": {
        "colab": {
          "base_uri": "https://localhost:8080/",
          "height": 0
        },
        "id": "CzpuQrLyvefS",
        "outputId": "60edff00-531a-48c4-efc4-ad7ae1cf42af"
      },
      "source": [
        "def Torres_Hanoi(N, desde, hasta):\r\n",
        "  if N == 1:\r\n",
        "    print('1Lleva la ficha ', str(desde), 'hasta ', str(hasta))\r\n",
        "\r\n",
        "  else:\r\n",
        "    Torres_Hanoi(N-1, desde,  6-desde-hasta)  # Como tenemos tres torres: 1+2+3 = 6 entoces 6 - 2 - 3 = 1(torre 1);  6 - 1 - 3 = 2(torre 2);  6 - 1 - 2 = 3(torre 3)\r\n",
        "    # Torres_Hanoi(N-1, desde, list({1,2,3}-{desde, hasta})[0])\r\n",
        "\r\n",
        "    print('2Lleva la ficha ', desde, 'hasta ', hasta)\r\n",
        "    Torres_Hanoi(N-1, 6-desde-hasta, hasta)\r\n",
        "    #Torres_Hanoi(N-1, list({1,2,3}-{desde, hasta})[0], hasta)\r\n",
        "\r\n",
        "\r\n",
        "\r\n",
        "\r\n",
        "Torres_Hanoi(3,1,3)  "
      ],
      "execution_count": 33,
      "outputs": [
        {
          "output_type": "stream",
          "text": [
            "1Lleva la ficha  1 hasta  3\n",
            "2Lleva la ficha  1 hasta  2\n",
            "1Lleva la ficha  3 hasta  2\n",
            "2Lleva la ficha  1 hasta  3\n",
            "1Lleva la ficha  2 hasta  1\n",
            "2Lleva la ficha  2 hasta  3\n",
            "1Lleva la ficha  1 hasta  3\n"
          ],
          "name": "stdout"
        }
      ]
    },
    {
      "cell_type": "code",
      "metadata": {
        "colab": {
          "base_uri": "https://localhost:8080/",
          "height": 0
        },
        "id": "xrrbmUte2quN",
        "outputId": "4439246a-fe2b-4669-8996-cc896f715335"
      },
      "source": [
        "# esto es un anexo para comprender \r\n",
        "list({1,2,3}-{2, 3})[0]"
      ],
      "execution_count": 16,
      "outputs": [
        {
          "output_type": "execute_result",
          "data": {
            "text/plain": [
              "1"
            ]
          },
          "metadata": {
            "tags": []
          },
          "execution_count": 16
        }
      ]
    },
    {
      "cell_type": "markdown",
      "metadata": {
        "id": "F_Obxndr6bYy"
      },
      "source": [
        "## Devolución cambio de monedas por técnica voraz"
      ]
    },
    {
      "cell_type": "code",
      "metadata": {
        "colab": {
          "base_uri": "https://localhost:8080/",
          "height": 0
        },
        "id": "Nwn_r5CF7G79",
        "outputId": "9da4a93d-9175-44e2-cb86-d9cc9e915d70"
      },
      "source": [
        "def cambio_monedas(N, SM):\r\n",
        "  SOLUCION = [0]*len(SM)   # Inicializar array con tantos ceros como indique la longitud de SM\r\n",
        "  ValorAcumulado = 0\r\n",
        "\r\n",
        "  for i, valor in enumerate(SM):\r\n",
        "    #monedas = int((N - ValorAcumulado)/m )\r\n",
        "    monedas = (N - ValorAcumulado)//valor    # otro modo de dividir\r\n",
        "    SOLUCION[i] = monedas\r\n",
        "    ValorAcumulado = ValorAcumulado + monedas*valor\r\n",
        "\r\n",
        "    if ValorAcumulado == N:\r\n",
        "       return SOLUCION\r\n",
        "\r\n",
        "cambio_monedas(37, [25,10,5,1])"
      ],
      "execution_count": 31,
      "outputs": [
        {
          "output_type": "execute_result",
          "data": {
            "text/plain": [
              "[1, 1, 0, 2]"
            ]
          },
          "metadata": {
            "tags": []
          },
          "execution_count": 31
        }
      ]
    },
    {
      "cell_type": "markdown",
      "metadata": {
        "id": "-R1Jyt-O_QV0"
      },
      "source": [
        "## N-Reinas por técnica de vuelta atrás (Backtracking)\r\n"
      ]
    },
    {
      "cell_type": "code",
      "metadata": {
        "colab": {
          "base_uri": "https://localhost:8080/",
          "height": 316
        },
        "id": "nlSi9Q6zA3se",
        "outputId": "0fcf95c4-9b9e-4f9b-beaf-5d5a6029f455"
      },
      "source": [
        "def es_prometedora(SOLUCION,etapa):\r\n",
        "\r\n",
        "  #print(SOLUCION)\r\n",
        "\r\n",
        "  #Si la solución tiene dos valores iguales no es valida => Dos reinas en la misma fila\r\n",
        "\r\n",
        "  for i in range(etapa+1):\r\n",
        "\r\n",
        "    #print(\"El valor \" + str(SOLUCION[i]) + \" está \" +  str(SOLUCION.count(SOLUCION[i])) + \" veces\")\r\n",
        "\r\n",
        "    if SOLUCION.count(SOLUCION[i]) > 1:       \r\n",
        "\r\n",
        "      return False\r\n",
        "\r\n",
        "  \r\n",
        "\r\n",
        "    #Verifica las diagonales\r\n",
        "\r\n",
        "    for j in range(i+1, etapa +1):\r\n",
        "\r\n",
        "      #print(\"Comprobando diagonal de \" + str(i) + \" y \" + str(j))\r\n",
        "\r\n",
        "      if abs(i-j) == abs(SOLUCION[i]-SOLUCION[j]) : return False\r\n",
        "\r\n",
        "  return True\r\n",
        "\r\n",
        "def reinas(N, solucion=[], etapa=0):\r\n",
        "\r\n",
        "  for i in range(1, N+1):\r\n",
        "    if len(solucion) == 0:\r\n",
        "      solucion=[0 for i in range(N)]\r\n",
        "    \r\n",
        "    for i in range(1, N + 1):\r\n",
        "      solucion[etapa] = i\r\n",
        "\r\n",
        "    if es_prometedora(solucion):\r\n",
        "      if etapa == N-1:\r\n",
        "        print(solucion)\r\n",
        "      else:\r\n",
        "        reinas(N, solucion, etapa+1)\r\n",
        "    else:\r\n",
        "      None\r\n",
        "\r\n",
        "    solucion[etapa] = 0\r\n",
        "\r\n",
        "\r\n",
        "\r\n",
        "reinas(4)  "
      ],
      "execution_count": 36,
      "outputs": [
        {
          "output_type": "error",
          "ename": "TypeError",
          "evalue": "ignored",
          "traceback": [
            "\u001b[0;31m---------------------------------------------------------------------------\u001b[0m",
            "\u001b[0;31mTypeError\u001b[0m                                 Traceback (most recent call last)",
            "\u001b[0;32m<ipython-input-36-8278e1c87ca0>\u001b[0m in \u001b[0;36m<module>\u001b[0;34m()\u001b[0m\n\u001b[1;32m     46\u001b[0m \u001b[0;34m\u001b[0m\u001b[0m\n\u001b[1;32m     47\u001b[0m \u001b[0;34m\u001b[0m\u001b[0m\n\u001b[0;32m---> 48\u001b[0;31m \u001b[0mreinas\u001b[0m\u001b[0;34m(\u001b[0m\u001b[0;36m4\u001b[0m\u001b[0;34m)\u001b[0m\u001b[0;34m\u001b[0m\u001b[0;34m\u001b[0m\u001b[0m\n\u001b[0m",
            "\u001b[0;32m<ipython-input-36-8278e1c87ca0>\u001b[0m in \u001b[0;36mreinas\u001b[0;34m(N, solucion, etapa)\u001b[0m\n\u001b[1;32m     34\u001b[0m       \u001b[0msolucion\u001b[0m\u001b[0;34m[\u001b[0m\u001b[0metapa\u001b[0m\u001b[0;34m]\u001b[0m \u001b[0;34m=\u001b[0m \u001b[0mi\u001b[0m\u001b[0;34m\u001b[0m\u001b[0;34m\u001b[0m\u001b[0m\n\u001b[1;32m     35\u001b[0m \u001b[0;34m\u001b[0m\u001b[0m\n\u001b[0;32m---> 36\u001b[0;31m     \u001b[0;32mif\u001b[0m \u001b[0mes_prometedora\u001b[0m\u001b[0;34m(\u001b[0m\u001b[0msolucion\u001b[0m\u001b[0;34m)\u001b[0m\u001b[0;34m:\u001b[0m\u001b[0;34m\u001b[0m\u001b[0;34m\u001b[0m\u001b[0m\n\u001b[0m\u001b[1;32m     37\u001b[0m       \u001b[0;32mif\u001b[0m \u001b[0metapa\u001b[0m \u001b[0;34m==\u001b[0m \u001b[0mN\u001b[0m\u001b[0;34m-\u001b[0m\u001b[0;36m1\u001b[0m\u001b[0;34m:\u001b[0m\u001b[0;34m\u001b[0m\u001b[0;34m\u001b[0m\u001b[0m\n\u001b[1;32m     38\u001b[0m         \u001b[0mprint\u001b[0m\u001b[0;34m(\u001b[0m\u001b[0msolucion\u001b[0m\u001b[0;34m)\u001b[0m\u001b[0;34m\u001b[0m\u001b[0;34m\u001b[0m\u001b[0m\n",
            "\u001b[0;31mTypeError\u001b[0m: es_prometedora() missing 1 required positional argument: 'etapa'"
          ]
        }
      ]
    }
  ]
}