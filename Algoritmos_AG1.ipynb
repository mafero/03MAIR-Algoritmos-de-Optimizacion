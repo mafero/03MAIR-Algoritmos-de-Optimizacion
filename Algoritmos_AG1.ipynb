{
  "nbformat": 4,
  "nbformat_minor": 0,
  "metadata": {
    "colab": {
      "name": "Algoritmos-AG1.ipynb",
      "provenance": [],
      "collapsed_sections": [],
      "toc_visible": true,
      "mount_file_id": "1BbK8P1oPjCktH9ibAuPJhFmJQhACK8Nf",
      "authorship_tag": "ABX9TyODvBHO2Osp0nVbNPvx82aS",
      "include_colab_link": true
    },
    "kernelspec": {
      "name": "python3",
      "display_name": "Python 3"
    }
  },
  "cells": [
    {
      "cell_type": "markdown",
      "metadata": {
        "id": "view-in-github",
        "colab_type": "text"
      },
      "source": [
        "<a href=\"https://colab.research.google.com/github/mafero/03MAIR-Algoritmos-de-Optimizacion/blob/main/Algoritmos_AG1.ipynb\" target=\"_parent\"><img src=\"https://colab.research.google.com/assets/colab-badge.svg\" alt=\"Open In Colab\"/></a>"
      ]
    },
    {
      "cell_type": "markdown",
      "metadata": {
        "id": "35CVjV7Gp-U4"
      },
      "source": [
        "# Actividad Guiada 1 - Algoritmos de optimización\r\n",
        "\r\n",
        "Nombre: Manuel Fernández Rodríguez <br>\r\n",
        "URL:  https://colab.research.google.com/drive/1BbK8P1oPjCktH9ibAuPJhFmJQhACK8Nf?usp=sharing  <br>\r\n",
        "GitHub:\r\n",
        "https://github.com/mafero/03MAIR-Algoritmos-de-Optimizacion\r\n",
        "\r\n"
      ]
    },
    {
      "cell_type": "markdown",
      "metadata": {
        "id": "l0g0Lix-vVxT"
      },
      "source": [
        "## Torres de Hanoi con Divide y vencerás"
      ]
    },
    {
      "cell_type": "code",
      "metadata": {
        "colab": {
          "base_uri": "https://localhost:8080/"
        },
        "id": "CzpuQrLyvefS",
        "outputId": "6cd07d2e-55c3-4c9a-d7ce-8abfe0467004"
      },
      "source": [
        "def Torres_Hanoi(N, desde, hasta):\r\n",
        "  if N == 1:\r\n",
        "    print('Lleva la ficha ', str(desde), 'hasta ', str(hasta))\r\n",
        "\r\n",
        "  else:\r\n",
        "    Torres_Hanoi(N-1, desde,  6-desde-hasta)  # Como tenemos tres torres: 1+2+3 = 6 entoces 6 - 2 - 3 = 1(torre 1);  6 - 1 - 3 = 2(torre 2);  6 - 1 - 2 = 3(torre 3)\r\n",
        "    # Torres_Hanoi(N-1, desde, list({1,2,3}-{desde, hasta})[0])\r\n",
        "\r\n",
        "    print('Lleva la ficha ', desde, 'hasta ', hasta)\r\n",
        "\r\n",
        "    Torres_Hanoi(N-1, 6-desde-hasta, hasta)\r\n",
        "    # Torres_Hanoi(N-1, list({1,2,3}-{desde, hasta})[0], hasta)\r\n",
        "\r\n",
        "def Hanoi_count(n):\r\n",
        "  res = 2**n - 1\r\n",
        "  return res\r\n",
        "\r\n",
        "Torres_Hanoi(3,1,3)\r\n",
        " \r\n",
        "print ('El número de operaciones realizadas es ', Hanoi_count(3) )"
      ],
      "execution_count": 18,
      "outputs": [
        {
          "output_type": "stream",
          "text": [
            "Lleva la ficha  1 hasta  3\n",
            "Lleva la ficha  1 hasta  2\n",
            "Lleva la ficha  3 hasta  2\n",
            "Lleva la ficha  1 hasta  3\n",
            "Lleva la ficha  2 hasta  1\n",
            "Lleva la ficha  2 hasta  3\n",
            "Lleva la ficha  1 hasta  3\n",
            "El número de operaciones realizadas es  7\n"
          ],
          "name": "stdout"
        }
      ]
    },
    {
      "cell_type": "code",
      "metadata": {
        "colab": {
          "base_uri": "https://localhost:8080/"
        },
        "id": "xrrbmUte2quN",
        "outputId": "2f701f5e-16c3-45f3-e03a-eeb5fdfe7942"
      },
      "source": [
        "# Esto es un anexo que vimos para comprender mejor la operación con la que estamos iterando\r\n",
        "# list({1,2,3}-{2, 3})[0]  # Si no ponemos el índice [0] esta operación devuelve una lista y buscamos quedarnos con un número"
      ],
      "execution_count": 10,
      "outputs": [
        {
          "output_type": "execute_result",
          "data": {
            "text/plain": [
              "[1]"
            ]
          },
          "metadata": {
            "tags": []
          },
          "execution_count": 10
        }
      ]
    },
    {
      "cell_type": "markdown",
      "metadata": {
        "id": "F_Obxndr6bYy"
      },
      "source": [
        "## Devolución cambio de monedas por técnica voraz"
      ]
    },
    {
      "cell_type": "code",
      "metadata": {
        "colab": {
          "base_uri": "https://localhost:8080/"
        },
        "id": "Nwn_r5CF7G79",
        "outputId": "ed1f0e29-21e7-4b8e-d02f-c90ab2aae026"
      },
      "source": [
        "def cambio_monedas(N, SM):\r\n",
        "  SOLUCION = [0]*len(SM)   # Inicializar array con tantos ceros como indique la longitud de SM\r\n",
        "  ValorAcumulado = 0\r\n",
        "\r\n",
        "  for i, valor in enumerate(SM):\r\n",
        "    #monedas = int((N - ValorAcumulado)/m )\r\n",
        "    monedas = (N - ValorAcumulado)//valor    # otro modo de dividir que obtiene el cociente en números enteros (evitamos el cast)\r\n",
        "    SOLUCION[i] = monedas\r\n",
        "    ValorAcumulado = ValorAcumulado + monedas*valor\r\n",
        "    if ValorAcumulado == N:\r\n",
        "       return SOLUCION\r\n",
        "\r\n",
        "cambio_monedas(50, [25,10,5,1])"
      ],
      "execution_count": 20,
      "outputs": [
        {
          "output_type": "execute_result",
          "data": {
            "text/plain": [
              "[2, 0, 0, 0]"
            ]
          },
          "metadata": {
            "tags": []
          },
          "execution_count": 20
        }
      ]
    },
    {
      "cell_type": "markdown",
      "metadata": {
        "id": "-R1Jyt-O_QV0"
      },
      "source": [
        "## N-Reinas por técnica de vuelta atrás (Backtracking)\r\n"
      ]
    },
    {
      "cell_type": "code",
      "metadata": {
        "colab": {
          "base_uri": "https://localhost:8080/"
        },
        "id": "nlSi9Q6zA3se",
        "outputId": "45bead8b-3ed2-4c06-b63f-0fb8f4d0c5e4"
      },
      "source": [
        "def escribe(S):\r\n",
        "  #función para pintar el tablero con las soluciones\r\n",
        "  n = len(S)\r\n",
        "  for x in range(n):\r\n",
        "    print(\"\")\r\n",
        "\r\n",
        "    for i in range(n):\r\n",
        "      if S[i] == x+1:\r\n",
        "        print(\" X \" , end=\"\")\r\n",
        "      else:\r\n",
        "        print(\" - \", end=\"\")\r\n",
        "\r\n",
        "\r\n",
        "\r\n",
        "\r\n",
        "def es_prometedora(SOLUCION,etapa):\r\n",
        "  #print(SOLUCION)\r\n",
        "  \r\n",
        "  #Si la solución tiene dos valores iguales no es valida => Dos reinas en la misma fila\r\n",
        "  for i in range(etapa+1):\r\n",
        "    #print(\"El valor \" + str(SOLUCION[i]) + \" está \" +  str(SOLUCION.count(SOLUCION[i])) + \" veces\")\r\n",
        "    if SOLUCION.count(SOLUCION[i]) > 1:       \r\n",
        "      return False\r\n",
        "\r\n",
        "    #Verifica las diagonales\r\n",
        "    for j in range(i+1, etapa +1):\r\n",
        "      #print(\"Comprobando diagonal de \" + str(i) + \" y \" + str(j))\r\n",
        "      if abs(i-j) == abs(SOLUCION[i]-SOLUCION[j]) : return False\r\n",
        "\r\n",
        "  return True\r\n",
        "\r\n",
        "def reinas(N, solucion=[], etapa=0):\r\n",
        "  if len(solucion) == 0:\r\n",
        "    solucion=[0 for i in range(N)]\r\n",
        "\r\n",
        "  for i in range(1, N + 1):\r\n",
        "    solucion[etapa] = i\r\n",
        "\r\n",
        "    if es_prometedora(solucion, etapa):\r\n",
        "      if etapa == N-1:\r\n",
        "        print(solucion)\r\n",
        "        escribe(solucion)\r\n",
        "        print('\\n')\r\n",
        "      else:\r\n",
        "        reinas(N, solucion, etapa+1)\r\n",
        "    else:\r\n",
        "      None\r\n",
        "\r\n",
        "    solucion[etapa] = 0\r\n",
        "\r\n",
        "\r\n",
        "\r\n",
        "reinas(4)  "
      ],
      "execution_count": 23,
      "outputs": [
        {
          "output_type": "stream",
          "text": [
            "[2, 4, 1, 3]\n",
            "\n",
            " -  -  X  - \n",
            " X  -  -  - \n",
            " -  -  -  X \n",
            " -  X  -  - \n",
            "\n",
            "[3, 1, 4, 2]\n",
            "\n",
            " -  X  -  - \n",
            " -  -  -  X \n",
            " X  -  -  - \n",
            " -  -  X  - \n",
            "\n"
          ],
          "name": "stdout"
        }
      ]
    }
  ]
}