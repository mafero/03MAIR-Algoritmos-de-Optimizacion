{
  "nbformat": 4,
  "nbformat_minor": 0,
  "metadata": {
    "colab": {
      "name": "Algoritmos_MFR - AG1.ipynb",
      "provenance": [],
      "collapsed_sections": [],
      "toc_visible": true,
      "mount_file_id": "1BbK8P1oPjCktH9ibAuPJhFmJQhACK8Nf",
      "authorship_tag": "ABX9TyNg3E/YT7lrZkm2ohJ3rYoI",
      "include_colab_link": true
    },
    "kernelspec": {
      "name": "python3",
      "display_name": "Python 3"
    }
  },
  "cells": [
    {
      "cell_type": "markdown",
      "metadata": {
        "id": "view-in-github",
        "colab_type": "text"
      },
      "source": [
        "<a href=\"https://colab.research.google.com/github/mafero/03MAIR-Algoritmos-de-Optimizacion/blob/main/Algoritmos_MFR_AG1.ipynb\" target=\"_parent\"><img src=\"https://colab.research.google.com/assets/colab-badge.svg\" alt=\"Open In Colab\"/></a>"
      ]
    },
    {
      "cell_type": "markdown",
      "metadata": {
        "id": "35CVjV7Gp-U4"
      },
      "source": [
        "# Actividad Guiada 1 - Algoritmos de optimización\r\n",
        "\r\n",
        "Nombre: Manuel Fernández Rodríguez <br>\r\n",
        "URL:  https://colab.research.google.com/drive/1BbK8P1oPjCktH9ibAuPJhFmJQhACK8Nf?usp=sharing  <br>\r\n",
        "GitHub: https://github.com/mafero/03MAIR-Algoritmos-de-Optimizacion\r\n",
        "\r\n"
      ]
    },
    {
      "cell_type": "markdown",
      "metadata": {
        "id": "l0g0Lix-vVxT"
      },
      "source": [
        "## Torres de Hanoi con Divide y vencerás"
      ]
    },
    {
      "cell_type": "code",
      "metadata": {
        "colab": {
          "base_uri": "https://localhost:8080/"
        },
        "id": "CzpuQrLyvefS",
        "outputId": "6cd07d2e-55c3-4c9a-d7ce-8abfe0467004"
      },
      "source": [
        "def Torres_Hanoi(N, desde, hasta):\r\n",
        "  if N == 1:\r\n",
        "    print('Lleva la ficha ', str(desde), 'hasta ', str(hasta))\r\n",
        "\r\n",
        "  else:\r\n",
        "    Torres_Hanoi(N-1, desde,  6-desde-hasta)  # Como tenemos tres torres: 1+2+3 = 6 entoces 6 - 2 - 3 = 1(torre 1);  6 - 1 - 3 = 2(torre 2);  6 - 1 - 2 = 3(torre 3)\r\n",
        "    # Torres_Hanoi(N-1, desde, list({1,2,3}-{desde, hasta})[0])\r\n",
        "\r\n",
        "    print('Lleva la ficha ', desde, 'hasta ', hasta)\r\n",
        "\r\n",
        "    Torres_Hanoi(N-1, 6-desde-hasta, hasta)\r\n",
        "    # Torres_Hanoi(N-1, list({1,2,3}-{desde, hasta})[0], hasta)\r\n",
        "\r\n",
        "def Hanoi_count(n):\r\n",
        "  res = 2**n - 1\r\n",
        "  return res\r\n",
        "\r\n",
        "Torres_Hanoi(3,1,3)\r\n",
        " \r\n",
        "print ('El número de operaciones realizadas es ', Hanoi_count(3) )"
      ],
      "execution_count": null,
      "outputs": [
        {
          "output_type": "stream",
          "text": [
            "Lleva la ficha  1 hasta  3\n",
            "Lleva la ficha  1 hasta  2\n",
            "Lleva la ficha  3 hasta  2\n",
            "Lleva la ficha  1 hasta  3\n",
            "Lleva la ficha  2 hasta  1\n",
            "Lleva la ficha  2 hasta  3\n",
            "Lleva la ficha  1 hasta  3\n",
            "El número de operaciones realizadas es  7\n"
          ],
          "name": "stdout"
        }
      ]
    },
    {
      "cell_type": "code",
      "metadata": {
        "colab": {
          "base_uri": "https://localhost:8080/"
        },
        "id": "xrrbmUte2quN",
        "outputId": "2f701f5e-16c3-45f3-e03a-eeb5fdfe7942"
      },
      "source": [
        "# Esto es un anexo que vimos para comprender mejor la operación con la que estamos iterando\r\n",
        "# list({1,2,3}-{2, 3})[0]  # Si no ponemos el índice [0] esta operación devuelve una lista y buscamos quedarnos con un número"
      ],
      "execution_count": null,
      "outputs": [
        {
          "output_type": "execute_result",
          "data": {
            "text/plain": [
              "[1]"
            ]
          },
          "metadata": {
            "tags": []
          },
          "execution_count": 10
        }
      ]
    },
    {
      "cell_type": "markdown",
      "metadata": {
        "id": "F_Obxndr6bYy"
      },
      "source": [
        "## Devolución cambio de monedas por técnica voraz"
      ]
    },
    {
      "cell_type": "code",
      "metadata": {
        "colab": {
          "base_uri": "https://localhost:8080/"
        },
        "id": "Nwn_r5CF7G79",
        "outputId": "ed1f0e29-21e7-4b8e-d02f-c90ab2aae026"
      },
      "source": [
        "def cambio_monedas(N, SM):\r\n",
        "  SOLUCION = [0]*len(SM)   # Inicializar array con tantos ceros como indique la longitud de SM\r\n",
        "  ValorAcumulado = 0\r\n",
        "\r\n",
        "  for i, valor in enumerate(SM):\r\n",
        "    #monedas = int((N - ValorAcumulado)/m )\r\n",
        "    monedas = (N - ValorAcumulado)//valor    # otro modo de dividir que obtiene el cociente en números enteros (evitamos el cast)\r\n",
        "    SOLUCION[i] = monedas\r\n",
        "    ValorAcumulado = ValorAcumulado + monedas*valor\r\n",
        "    if ValorAcumulado == N:\r\n",
        "       return SOLUCION\r\n",
        "\r\n",
        "cambio_monedas(50, [25,10,5,1])"
      ],
      "execution_count": null,
      "outputs": [
        {
          "output_type": "execute_result",
          "data": {
            "text/plain": [
              "[2, 0, 0, 0]"
            ]
          },
          "metadata": {
            "tags": []
          },
          "execution_count": 20
        }
      ]
    },
    {
      "cell_type": "markdown",
      "metadata": {
        "id": "-R1Jyt-O_QV0"
      },
      "source": [
        "## N-Reinas por técnica de vuelta atrás (Backtracking)\r\n"
      ]
    },
    {
      "cell_type": "code",
      "metadata": {
        "colab": {
          "base_uri": "https://localhost:8080/"
        },
        "id": "nlSi9Q6zA3se",
        "outputId": "be96a92b-4199-4bc0-d778-a67fc6478349"
      },
      "source": [
        "def escribe(S):\r\n",
        "  #función para pintar el tablero con las soluciones\r\n",
        "  n = len(S)\r\n",
        "  for x in range(n):\r\n",
        "    print(\"\")\r\n",
        "\r\n",
        "    for i in range(n):\r\n",
        "      if S[i] == x+1:\r\n",
        "        print(\" X \" , end=\"\")\r\n",
        "      else:\r\n",
        "        print(\" - \", end=\"\")\r\n",
        "\r\n",
        "\r\n",
        "\r\n",
        "\r\n",
        "def es_prometedora(SOLUCION,etapa):\r\n",
        "  #print(SOLUCION)\r\n",
        "  \r\n",
        "  #Si la solución tiene dos valores iguales no es valida => Dos reinas en la misma fila\r\n",
        "  for i in range(etapa+1):\r\n",
        "    #print(\"El valor \" + str(SOLUCION[i]) + \" está \" +  str(SOLUCION.count(SOLUCION[i])) + \" veces\")\r\n",
        "    if SOLUCION.count(SOLUCION[i]) > 1:       \r\n",
        "      return False\r\n",
        "\r\n",
        "    #Verifica las diagonales\r\n",
        "    for j in range(i+1, etapa +1):\r\n",
        "      #print(\"Comprobando diagonal de \" + str(i) + \" y \" + str(j))\r\n",
        "      if abs(i-j) == abs(SOLUCION[i]-SOLUCION[j]) : return False\r\n",
        "\r\n",
        "  return True\r\n",
        "\r\n",
        "def reinas(N, solucion=[], etapa=0):\r\n",
        "  # Inicializa el array solución en caso de que este esté vacío\r\n",
        "  if len(solucion) == 0:\r\n",
        "    solucion=[0 for i in range(N)]\r\n",
        "\r\n",
        "  for i in range(1, N + 1):\r\n",
        "    solucion[etapa] = i\r\n",
        "\r\n",
        "    if es_prometedora(solucion, etapa):\r\n",
        "      if etapa == N-1:\r\n",
        "        print(solucion)\r\n",
        "        escribe(solucion)\r\n",
        "        print('\\n')\r\n",
        "      else:\r\n",
        "        reinas(N, solucion, etapa+1)\r\n",
        "    else:\r\n",
        "      None\r\n",
        "\r\n",
        "    solucion[etapa] = 0\r\n",
        "\r\n",
        "\r\n",
        "\r\n",
        "reinas(4)  "
      ],
      "execution_count": null,
      "outputs": [
        {
          "output_type": "stream",
          "text": [
            "[2, 4, 1, 3]\n",
            "\n",
            " -  -  X  - \n",
            " X  -  -  - \n",
            " -  -  -  X \n",
            " -  X  -  - \n",
            "\n",
            "[3, 1, 4, 2]\n",
            "\n",
            " -  X  -  - \n",
            " -  -  -  X \n",
            " X  -  -  - \n",
            " -  -  X  - \n",
            "\n"
          ],
          "name": "stdout"
        }
      ]
    },
    {
      "cell_type": "markdown",
      "metadata": {
        "id": "-xX-lOvtglog"
      },
      "source": [
        "## Encontrar los dos puntos más cercanos\r\n"
      ]
    },
    {
      "cell_type": "markdown",
      "metadata": {
        "id": "Zqx0-ki0iQdh"
      },
      "source": [
        "### Primer intento: Fuerza bruta con lista de 1D"
      ]
    },
    {
      "cell_type": "code",
      "metadata": {
        "colab": {
          "base_uri": "https://localhost:8080/"
        },
        "id": "3utql3EdicKf",
        "outputId": "8dca7ed4-f88d-4235-9431-6865316fbb9c"
      },
      "source": [
        "import random\r\n",
        "import math\r\n",
        "\r\n",
        "# Generación de una lista con valores aleatorios\r\n",
        "Lista_1D = [random.randrange(1,10000) for x in range(10)]  # creación de arrays usando comprehension list. En este caso el bucle for solo se usa para realizar mil iteraciones, \r\n",
        "# Lista_1D = [1,9,5,8,50,2,100]                                                           # el valor que va tomando x en cada iteración no se usa\r\n",
        "print(len(Lista_1D))\r\n",
        "print(Lista_1D)\r\n",
        "\r\n",
        "# Lista_2D = [(random.randrange(1,10000), random.randrange(1,10000)) for x in range(1000)]  # Array de arrays compuestos por dos elementos\r\n",
        "# print(Lista_2D)\r\n"
      ],
      "execution_count": null,
      "outputs": [
        {
          "output_type": "stream",
          "text": [
            "10\n",
            "[1495, 2182, 368, 6287, 3114, 872, 828, 6301, 9484, 1458]\n"
          ],
          "name": "stdout"
        }
      ]
    },
    {
      "cell_type": "code",
      "metadata": {
        "colab": {
          "base_uri": "https://localhost:8080/"
        },
        "id": "xUdG-Yq2iprB",
        "outputId": "efac3d10-a11e-429a-ba7e-00e1cf53516e"
      },
      "source": [
        "def distancia(p1, p2):\r\n",
        "  return abs(p1-p2)\r\n",
        "\r\n",
        "def fuerza_bruta1D(lista):\r\n",
        "  # inicializamos minDist con un valor muy alto\r\n",
        "  minDist = float('inf')\r\n",
        "  for i in range(len(lista)-1):\r\n",
        "    for j in range(i+1, len(lista)):\r\n",
        "      dist = distancia(lista[i], lista[j])\r\n",
        "      if dist < minDist:\r\n",
        "        minDist = dist\r\n",
        "        closest_pair = (lista[i], lista[j])\r\n",
        "\r\n",
        "  return closest_pair\r\n",
        "\r\n",
        "fuerza_bruta1D(Lista_1D)"
      ],
      "execution_count": null,
      "outputs": [
        {
          "output_type": "execute_result",
          "data": {
            "text/plain": [
              "(6287, 6301)"
            ]
          },
          "metadata": {
            "tags": []
          },
          "execution_count": 50
        }
      ]
    },
    {
      "cell_type": "markdown",
      "metadata": {
        "id": "oCySgbdDs9sI"
      },
      "source": [
        "#### La resolución de este problema aplicando \"Fuerza Bruta\" conlleva calcular la distancia entre todos los pares de puntos de la lista introducida y seleccionar el valor mínimo. Aplicando combinatoria $C(n,k) = \\frac{n!}{k!*(n-k)!}$ obtenemos que se realizarán n*(n-1)/2 comparaciones, de modo que la complejidad del problema será O(n^2). \r\n",
        "Este problema se puede resolver en tiempo O(n log n) en un espacio euclídeo."
      ]
    },
    {
      "cell_type": "markdown",
      "metadata": {
        "id": "KF4E0sHvnlbb"
      },
      "source": [
        ""
      ]
    },
    {
      "cell_type": "markdown",
      "metadata": {
        "id": "uGrMst2_nols"
      },
      "source": [
        "### Segundo intento. Divide y vencerás"
      ]
    },
    {
      "cell_type": "code",
      "metadata": {
        "id": "87Q4Dm0buN88",
        "colab": {
          "base_uri": "https://localhost:8080/"
        },
        "outputId": "a66c191b-e92b-4cd6-abd3-c928113423af"
      },
      "source": [
        "def divide(p):\r\n",
        "  # Ordenar la lista \r\n",
        "  Lista_1D.sort()\r\n",
        "  l = len(Lista_1D)\r\n",
        "  print(Lista_1D, l)\r\n",
        "\r\n",
        "  if l <= 3:\r\n",
        "    return fuerza_bruta1D(Lista_1D)\r\n",
        "\r\n",
        "  mitad = l // 2\r\n",
        "  # print(mid)\r\n",
        "  Pmedio = p(mitad)\r\n",
        "  \r\n",
        "  #...... continuar \r\n",
        "\r\n",
        "\r\n",
        "divide(Lista_1D)\r\n",
        "\r\n",
        "###########################Recurso para desarrollar mi solución##################################################\r\n",
        "# # A recursive function to find the  \r\n",
        "# # smallest distance. The array P contains  \r\n",
        "# # all points sorted according to x coordinate \r\n",
        "# def closestUtil(P, Q, n): \r\n",
        "      \r\n",
        "#     # If there are 2 or 3 points,  \r\n",
        "#     # then use brute force  \r\n",
        "#     if n <= 3:  \r\n",
        "#         return bruteForce(P, n)  \r\n",
        "  \r\n",
        "#     # Find the middle point  \r\n",
        "#     mid = n // 2\r\n",
        "#     midPoint = P[mid] \r\n",
        "  \r\n",
        "#     # Consider the vertical line passing  \r\n",
        "#     # through the middle point calculate  \r\n",
        "#     # the smallest distance dl on left  \r\n",
        "#     # of middle point and dr on right side  \r\n",
        "#     dl = closestUtil(P[:mid], Q, mid) \r\n",
        "#     dr = closestUtil(P[mid:], Q, n - mid)  \r\n",
        "  \r\n",
        "#     # Find the smaller of two distances  \r\n",
        "#     d = min(dl, dr) \r\n",
        "  \r\n",
        "#     # Build an array strip[] that contains  \r\n",
        "#     # points close (closer than d)  \r\n",
        "#     # to the line passing through the middle point  \r\n",
        "#     strip = []  \r\n",
        "#     for i in range(n):  \r\n",
        "#         if abs(Q[i].x - midPoint.x) < d:  \r\n",
        "#             strip.append(Q[i]) \r\n",
        "  \r\n",
        "#     # Find the closest points in strip.  \r\n",
        "#     # Return the minimum of d and closest  \r\n",
        "#     # distance is strip[]  \r\n",
        "#     return min(d, stripClosest(strip, len(strip), d)) \r\n",
        "###################################################################################"
      ],
      "execution_count": null,
      "outputs": [
        {
          "output_type": "stream",
          "text": [
            "[368, 828, 872, 1458, 1495, 2182, 3114, 6287, 6301, 9484] 10\n",
            "5\n"
          ],
          "name": "stdout"
        }
      ]
    },
    {
      "cell_type": "markdown",
      "metadata": {
        "id": "lXBXXsRGkgqH"
      },
      "source": [
        "### Segundo intento. Extender el algoritmo a 2D"
      ]
    },
    {
      "cell_type": "code",
      "metadata": {
        "colab": {
          "base_uri": "https://localhost:8080/"
        },
        "id": "XdYC5LzPkfzY",
        "outputId": "0ab05a87-1fbc-4a3f-de66-5e8376b8e666"
      },
      "source": [
        "from __future__ import division\r\n",
        "from collections import namedtuple\r\n",
        "from random import randint\r\n",
        "import math as m\r\n",
        "import heapq as hq\r\n",
        "\r\n",
        "def get_key(item):\r\n",
        "       return(item[0])\r\n",
        "\r\n",
        "\r\n",
        "def closest_point_problem(points):\r\n",
        "       point = []\r\n",
        "       heap = []\r\n",
        "       pt = namedtuple('pt', 'x y')\r\n",
        "       for i in range(len(points)):\r\n",
        "           point.append(pt(points[i][0], points[i][1]))\r\n",
        "       point = sorted(point, key=get_key)\r\n",
        "       visited_index = []\r\n",
        "       find_min(0, len(point) - 1, point, heap, visited_index)\r\n",
        "       print(hq.heappop(heap))\r\n",
        "\r\n",
        "def find_min(start, end, point, heap, visited_index):\r\n",
        "       if len(point[start:end + 1]) & 1:\r\n",
        "           mid = start + ((len(point[start:end + 1]) + 1) >> 1)\r\n",
        "       else:\r\n",
        "           mid = start + (len(point[start:end + 1]) >> 1)\r\n",
        "           if start in visited_index:\r\n",
        "               start = start + 1\r\n",
        "           if end in visited_index:\r\n",
        "               end = end - 1\r\n",
        "       if len(point[start:end + 1]) > 3:\r\n",
        "           if start < mid - 1:\r\n",
        "               distance1 = m.sqrt((point[start].x - point[start + 1].x) ** 2 + (point[start].y - point[start + 1].y) ** 2)\r\n",
        "               distance2 = m.sqrt((point[mid].x - point[mid - 1].x) ** 2 + (point[mid].y - point[mid - 1].y) ** 2)\r\n",
        "               if distance1 < distance2:\r\n",
        "                   hq.heappush(heap, (distance1, ((point[start].x, point[start].y), (point[start + 1].x, point[start + 1].y))))\r\n",
        "               else:\r\n",
        "                   hq.heappush(heap, (distance2, ((point[mid].x, point[mid].y), (point[mid - 1].x, point[mid - 1].y))))\r\n",
        "               visited_index.append(start)\r\n",
        "               visited_index.append(start + 1)\r\n",
        "               visited_index.append(mid)\r\n",
        "               visited_index.append(mid - 1)\r\n",
        "               find_min(start, mid, point, heap, visited_index)\r\n",
        "           if mid + 1 < end:\r\n",
        "               distance1 = m.sqrt((point[mid].x - point[mid + 1].x) ** 2 + (point[mid].y - point[mid + 1].y) ** 2)\r\n",
        "               distance2 = m.sqrt((point[end].x - point[end - 1].x) ** 2 + (point[end].y - point[end - 1].y) ** 2)\r\n",
        "               if distance1 < distance2:\r\n",
        "                   hq.heappush(heap, (distance1, ((point[mid].x, point[mid].y), (point[mid + 1].x, point[mid + 1].y))))\r\n",
        "               else:\r\n",
        "                   hq.heappush(heap, (distance2, ((point[end].x, point[end].y), (point[end - 1].x, point[end - 1].y))))\r\n",
        "               visited_index.append(end)\r\n",
        "               visited_index.append(end - 1)\r\n",
        "               visited_index.append(mid)\r\n",
        "               visited_index.append(mid + 1)\r\n",
        "               find_min(mid, end, point, heap, visited_index)\r\n",
        "\r\n",
        "x = []\r\n",
        "num_points = 100\r\n",
        "for i in range(num_points):\r\n",
        "       x.append((randint(- num_points << 2, num_points << 2), randint(- num_points << 2, num_points << 2)))\r\n",
        "\r\n",
        "print(x)\r\n",
        "closest_point_problem(x)"
      ],
      "execution_count": 1,
      "outputs": [
        {
          "output_type": "stream",
          "text": [
            "[(246, -197), (104, 115), (-164, -169), (-126, -372), (-324, 289), (79, 399), (-168, 123), (209, 183), (-230, -44), (-370, 159), (179, 13), (20, -208), (266, 189), (-202, 56), (-245, 198), (-229, 125), (168, 302), (70, -24), (351, -275), (45, 179), (296, -317), (23, 358), (135, -91), (-23, -278), (-153, 394), (-131, 3), (215, -216), (304, 84), (125, 68), (-207, -384), (-50, 92), (-138, -303), (-393, 262), (-219, 349), (-284, -101), (128, 65), (262, 214), (163, -110), (-284, -335), (-167, -67), (395, -374), (219, 276), (-359, 54), (8, -268), (46, -156), (-21, -213), (-368, -258), (119, -221), (-42, -279), (-299, 227), (-307, -323), (-67, -162), (293, 46), (198, 52), (-226, 123), (104, 343), (-305, 354), (238, -247), (66, -376), (-81, -95), (-391, 87), (-69, 253), (-120, -3), (-76, 199), (264, -346), (315, -400), (-50, 244), (86, -12), (284, -249), (-30, -297), (-242, 176), (126, -301), (347, 127), (260, 62), (-249, 143), (240, 241), (-269, -308), (93, 375), (-125, 48), (48, -49), (214, -51), (123, 215), (106, 152), (-125, -324), (-118, -176), (-294, 222), (-19, 179), (337, 301), (-358, 57), (178, 358), (-71, -256), (6, -211), (383, -77), (-248, 63), (130, -269), (-79, 216), (351, -220), (29, 269), (397, -9), (-233, -108)]\n",
            "(3.1622776601683795, ((-358, 57), (-359, 54)))\n"
          ],
          "name": "stdout"
        }
      ]
    }
  ]
}