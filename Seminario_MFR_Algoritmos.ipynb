{
  "nbformat": 4,
  "nbformat_minor": 0,
  "metadata": {
    "colab": {
      "name": "Seminario_MFR - Algoritmos.ipynb",
      "provenance": [],
      "collapsed_sections": [],
      "include_colab_link": true
    },
    "kernelspec": {
      "name": "python3",
      "display_name": "Python 3"
    }
  },
  "cells": [
    {
      "cell_type": "markdown",
      "metadata": {
        "id": "view-in-github",
        "colab_type": "text"
      },
      "source": [
        "<a href=\"https://colab.research.google.com/github/mafero/03MAIR-Algoritmos-de-Optimizacion/blob/main/Seminario_MFR_Algoritmos.ipynb\" target=\"_parent\"><img src=\"https://colab.research.google.com/assets/colab-badge.svg\" alt=\"Open In Colab\"/></a>"
      ]
    },
    {
      "cell_type": "markdown",
      "metadata": {
        "id": "hVbXYX-RfPWh"
      },
      "source": [
        "# **Algoritmos de optimización** - **Seminario**<br>\n",
        "### Nombre y Apellidos: **Manuel Fernández Rodríguez**  <br>\n",
        "Url:    https://colab.research.google.com/drive/1YRi6rPD-F_EL-LllMva-qYADtRqMV2Ri?usp=sharing <br>\n",
        "GitHub: https://github.com/mafero/03MAIR-Algoritmos-de-Optimizacion/blob/main/Seminario_MFR_Algoritmos.ipynb\n",
        "\n",
        "Problema:\n",
        ">3. Combinar cifras y operaciones\n",
        "\n",
        "Descripción del problema:\n",
        "\n",
        "El problema consiste en analizar el siguiente problema y diseñar un algoritmo que lo resuelva. \n",
        "Disponemos de las 9 cifras del 1 al 9 (excluimos el cero) y de los signos básicos de las operaciones fundamentales: suma (+), resta (-), multiplicación (*) y división (/). Debemos combinarlos alternativamente sin repetir ninguno de ellos para obtener una cantidad dada. Un ejemplo para obtener 4 sería:\n",
        "\n",
        "$$4+2-6/3*1 = 4$$\n",
        "\n",
        "Debe analizarse el problema para encontrar todos los valores enteros posibles planteando las siguientes cuestiones:\n",
        "- ¿Qué valor máximo y mínimo se pueden obtener según las condiciones del problema?\n",
        "- ¿Es posible encontrar todos los valores enteros posibles entre dicho mínimo y máximo?\n",
        "\n",
        "\n",
        "(*) La respuesta es obligatoria\n",
        "\n",
        "\n",
        "\n",
        "\n",
        "\n",
        "                                        "
      ]
    },
    {
      "cell_type": "markdown",
      "metadata": {
        "id": "3_-exlrTgLd-"
      },
      "source": [
        "##(*) a) ¿Cuantas posibilidades hay sin tener en cuenta las restricciones?<br>\n",
        "\n",
        "\n",
        "\n",
        "##b) ¿Cuantas posibilidades hay teniendo en cuenta todas las restricciones.\n",
        "\n",
        "\n"
      ]
    },
    {
      "cell_type": "markdown",
      "metadata": {
        "id": "WfCUqJyKhPcw"
      },
      "source": [
        "Respuesta"
      ]
    },
    {
      "cell_type": "markdown",
      "metadata": {
        "id": "29AybalMWwaM"
      },
      "source": [
        "a) Obviando las restricciones planteadas, las combinaciones posibles son:\r\n",
        "- Combinación de nueve elementos tomados de cinco en cinco: 9^5 = 59049\r\n",
        "- Combinación de cuatro operadores tomados de cuatro en cuatro: 4^4 = 256\r\n",
        "Podemos concluir que el número total de posibilidades para componer una expresión sería 9^5 * 4^4 = 15116544"
      ]
    },
    {
      "cell_type": "markdown",
      "metadata": {
        "id": "3MSuQSEWbJCZ"
      },
      "source": [
        "b)  Atendiendo a la restricción de que no pueden repetirse ni números ni operadores a la hora de componer la expresión a evaluar, se usarán las permutaciones para calcular el número de posibilades. \r\n",
        "$$ P(n,r) = n! / (n-r)! $$\r\n",
        "Particularizando en nuestro problema se tiene:\r\n",
        "1. $P(9,5) = 9! / (9-5)! = 15120 $\r\n",
        "2. $P(4,4) = 4! / (4-4)! = 24 $       \r\n",
        "\r\n",
        "Finalmente se concluye que el número de posibilidades es:\r\n",
        " $$P(9,5) * P(4,4) = 15120 * 24 = 362880 $$\r\n",
        "\r\n"
      ]
    },
    {
      "cell_type": "code",
      "metadata": {
        "colab": {
          "base_uri": "https://localhost:8080/"
        },
        "id": "DebGVRhgfsFE",
        "outputId": "93331cf0-2ac2-4c6c-cc63-d32aa1f26ae0"
      },
      "source": [
        "# import math\r\n",
        "from math import factorial\r\n",
        "\r\n",
        "def permutaciones(n,r):\r\n",
        "  # permutaciones es una funcion que calcula las permutaciones posibles sin repetición para conjuntos de n valores tomados de r en r.\r\n",
        "  # P(n,r) = n! / (n-r)! si 0 <= r <=n\r\n",
        "  num = factorial(n)\r\n",
        "  den = factorial(n-r)\r\n",
        "  return num/den\r\n",
        "\r\n",
        "  \r\n",
        "print(permutaciones(9,5))\r\n",
        "print(permutaciones(4,4))"
      ],
      "execution_count": 1,
      "outputs": [
        {
          "output_type": "stream",
          "text": [
            "15120.0\n",
            "24.0\n"
          ],
          "name": "stdout"
        }
      ]
    },
    {
      "cell_type": "markdown",
      "metadata": {
        "id": "dzynfVJahHoY"
      },
      "source": [
        "## Modelo para el espacio de soluciones<br>\n",
        "## (*) ¿Cual es la estructura de datos que mejor se adapta al problema? Argumentalo.(Es posible que hayas elegido una al principio y veas la necesidad de cambiar, arguentalo)\n"
      ]
    },
    {
      "cell_type": "markdown",
      "metadata": {
        "id": "xFIJrOwKi2Ti"
      },
      "source": [
        "Respuesta"
      ]
    },
    {
      "cell_type": "markdown",
      "metadata": {
        "id": "V3QnrcwnhTn0"
      },
      "source": [
        "Una buena forma de abordar este problema es construir dos listas. La primera lista contendrá los números susceptibles de formar parte de la expresión a evaluar. La segunda lista almacena los operadores que terminarán de componer la expresión a evaluar. \r\n",
        "\r\n",
        "Como se usará la función \"eval\" de python para evaluar la expresión, será importante que tanto las listas como la expresión final manejen datos tipo string.\r\n",
        "\r\n",
        "El espacio de soluciones final es una lista que contiene las expresiones resultantes de combinar todas las permutaciones posibles de los 9 dígitos tomados de cinco en cinco con las permutaciones de los operadores tomados de cuatro en cuatro."
      ]
    },
    {
      "cell_type": "code",
      "metadata": {
        "id": "38c-7-ejhJmA",
        "colab": {
          "base_uri": "https://localhost:8080/"
        },
        "outputId": "9fd94954-3c92-4ae9-f380-1f5d289f1709"
      },
      "source": [
        "numeros = ['1', '2', '3', '4', '5', '6', '7', '8', '9']\r\n",
        "operadores = ['+', '-', '*', '/']\r\n",
        "# Ejemplo de una expresión del espacio de soluciones\r\n",
        "ej_expresion = numeros[3]+ operadores[1]+numeros[1]+operadores[0]+ numeros[5] + operadores[3]+numeros[2] + operadores[2] + numeros[0]\r\n",
        "print(\"Un ejemplo de la composición de las expresiones a evaluar es: \", ej_expresion)\r\n",
        "# La función eval() nos devuelve el resultado de la expresión matemática \r\n",
        "print(eval(ej_expresion), type(eval(ej_expresion)))\r\n",
        "# Puesto que eval() devuelve un dato tipo float se usará el método is_integer() para verificar que el resultado de la expresión resultó ser un número entero\r\n",
        "print(eval(ej_expresion).is_integer())\r\n"
      ],
      "execution_count": 2,
      "outputs": [
        {
          "output_type": "stream",
          "text": [
            "Un ejemplo de la composición de las expresiones a evaluar es:  4-2+6/3*1\n",
            "4.0 <class 'float'>\n",
            "True\n"
          ],
          "name": "stdout"
        }
      ]
    },
    {
      "cell_type": "markdown",
      "metadata": {
        "id": "7Z9U2W7bi-XS"
      },
      "source": [
        "##Según el modelo para el espacio de soluciones<br>\n",
        "##(*) a) ¿Cual es la función objetivo?\n",
        "\n",
        "##(*) b) ¿Es un problema de maximización o minimización?"
      ]
    },
    {
      "cell_type": "markdown",
      "metadata": {
        "id": "hBalWLM7j1_d"
      },
      "source": [
        "Respuesta"
      ]
    },
    {
      "cell_type": "markdown",
      "metadata": {
        "id": "QhhqBcgTJ5lp"
      },
      "source": [
        "a) La función objetivo es la composición de la expresión a evaluar para determinar si la misma da lugar al resultado requerido. En caso de encontrar una expresión que permita obtener una cantidad dada devolveremos un TRUE para reflejar que se resolvió el problema de forma satisfactoria y almacenamos tanto la expresión como la cantidad solicitada (por ejemplo haciendo uso de un diccionario de python)"
      ]
    },
    {
      "cell_type": "markdown",
      "metadata": {
        "id": "_r2NVhtDOgc3"
      },
      "source": [
        "b) Pienso que no es un problema de maximización o minimización. En este caso diría que es un algoritmo de búsqueda puesto que lo que conseguimos es todas las expresiones que dan lugar a una cantidad dada."
      ]
    },
    {
      "cell_type": "markdown",
      "metadata": {
        "id": "rlnTYgY1j6I2"
      },
      "source": [
        "##Diseña un algoritmo para resolver el problema por fuerza bruta"
      ]
    },
    {
      "cell_type": "markdown",
      "metadata": {
        "id": "70rDgxYXkC8r"
      },
      "source": [
        "Respuesta"
      ]
    },
    {
      "cell_type": "code",
      "metadata": {
        "id": "AiskKkzZfy4e"
      },
      "source": [
        "# Importación de librerias a utilizar\r\n",
        "from pprint import pprint\r\n",
        "\r\n",
        "import itertools\r\n",
        "from itertools import permutations, combinations\r\n"
      ],
      "execution_count": 101,
      "outputs": []
    },
    {
      "cell_type": "code",
      "metadata": {
        "id": "pKS1iZ1J-Jz_"
      },
      "source": [
        "# Definición de una lista con las permutaciones posibles de los operadores\r\n",
        "operaciones = permutations(\"+-*/\",4)\r\n",
        "v_operaciones = list(operaciones)\r\n",
        "print(v_operaciones, '\\n',  len(v_operaciones))"
      ],
      "execution_count": null,
      "outputs": []
    },
    {
      "cell_type": "code",
      "metadata": {
        "id": "lH5G_QJNV_lk"
      },
      "source": [
        "# Definición de una lista con las permutaciones posibles de los números\r\n",
        "numeros = permutations( [1,2,3,4,5,6,7,8,9], 5)\r\n",
        "v_numeros = list(numeros)\r\n",
        "print(v_numeros, '\\n', len(v_numeros))\r\n"
      ],
      "execution_count": null,
      "outputs": []
    },
    {
      "cell_type": "code",
      "metadata": {
        "colab": {
          "base_uri": "https://localhost:8080/"
        },
        "id": "awh811sw--jk",
        "outputId": "0f49d7ef-5844-4e40-fffa-ea381762c8c7"
      },
      "source": [
        "# Algoritmo para resolver el problema por Fuerza bruta\r\n",
        "\r\n",
        "def fuerza_bruta(l_num, l_oper, valor):\r\n",
        "  ''' Entradas: l_num =  lista con la permutaciones posibles de los números\r\n",
        "                l_oper = lista con la permutaciones posibles de las operaciones\r\n",
        "                valor = número entero que se busca como resultado de la expresión\r\n",
        "      Salidas:  res = Diccionario python con todas las expresiones que dan lugar a un resultado entero\r\n",
        "                res_bool = Variable booleana que indica si es posible alcanzar el entero deseado a partir de las expresiones conformadas'''\r\n",
        "  # diccionario para albergar las expresiones que dan lugar a cada resultado\r\n",
        "  res = {}\r\n",
        "\r\n",
        "  for i in l_num:\r\n",
        "    for j in l_oper:\r\n",
        "      # Composición de la expresión matemática a evaluar\r\n",
        "      expresion =  str(i[0]) + str(j[0]) + str(i[1]) + str(j[1]) + str(i[2]) + str(j[2]) + str(i[3]) + str(j[3]) + str(i[4]) \r\n",
        "\r\n",
        "      # La función eval() nos devuelve el resultado de la expresión matemática \r\n",
        "      res_entero = eval(expresion)\r\n",
        "      # Puesto que eval() devuelve un dato tipo float se usará el método is_integer() para verificar que el resultado de la expresión resultó ser un número entero\r\n",
        "      # Si el resultado es un número entero..\r\n",
        "      if (res_entero.is_integer()):\r\n",
        "        res_entero = int(res_entero)    # Una vez que sé que es un número entero elimino la notación decimal para posibilitar futuros casteos entre str e int\r\n",
        "        if (str(res_entero) in res.keys()):\r\n",
        "          res[str(res_entero)].append(expresion)\r\n",
        "        else:\r\n",
        "          res[str(res_entero)] = [expresion] \r\n",
        "  if str(valor) in res.keys():\r\n",
        "    res_bool = True\r\n",
        "  else:\r\n",
        "    res_bool = False\r\n",
        "\r\n",
        "  # return sorted(res.keys(), reverse=False)\r\n",
        "  return res, res_bool\r\n",
        "\r\n",
        "\r\n",
        "################################################################################################################\r\n",
        "# Llamada a la función\r\n",
        "dic_sol, sol = fuerza_bruta(v_numeros, v_operaciones, 77)  \r\n",
        "# array_keys es una lista con las claves del diccionario devuelto por el algoritmo fuerza_bruta ordenada de menor a mayor\r\n",
        "array_keys = sorted(dic_sol.keys(), reverse=False)\r\n",
        "# Implementación de un bucle for para castear a enteros las claves (tipo str)\r\n",
        "for i in range(len(array_keys)):\r\n",
        "  array_keys[i] = int(array_keys[i])\r\n",
        "print(\" A continuación se muestran todos los valores enteros obtenidos tras evaluar el espacio de soluciones completo: \")  \r\n",
        "print (sorted(array_keys, reverse=False)) \r\n",
        "\r\n",
        "print(\"¿Fue posible obtener el entero requerido?:\", sol)\r\n",
        "print(\" El valor entero máximo alcanzado es: \", max(array_keys))\r\n",
        "print(\" El valor entero mínimo alcanzado es: \", min(array_keys))\r\n",
        "\r\n",
        "# Ejecutar esta instrucción para mostrar todas expresiones que dan lugar al entero deseado\r\n",
        "#pprint(dic_sol['77'])\r\n",
        "\r\n",
        "\r\n"
      ],
      "execution_count": 113,
      "outputs": [
        {
          "output_type": "stream",
          "text": [
            " A continuación se muestran todos los valores enteros obtenidos tras evaluar el espacio de soluciones completo: \n",
            "[-69, -68, -67, -66, -65, -64, -63, -62, -61, -60, -59, -58, -57, -56, -55, -54, -53, -52, -51, -50, -49, -48, -47, -46, -45, -44, -43, -42, -41, -40, -39, -38, -37, -36, -35, -34, -33, -32, -31, -30, -29, -28, -27, -26, -25, -24, -23, -22, -21, -20, -19, -18, -17, -16, -15, -14, -13, -12, -11, -10, -9, -8, -7, -6, -5, -4, -3, -2, -1, 0, 1, 2, 3, 4, 5, 6, 7, 8, 9, 10, 11, 12, 13, 14, 15, 16, 17, 18, 19, 20, 21, 22, 23, 24, 25, 26, 27, 28, 29, 30, 31, 32, 33, 34, 35, 36, 37, 38, 39, 40, 41, 42, 43, 44, 45, 46, 47, 48, 49, 50, 51, 52, 53, 54, 55, 56, 57, 58, 59, 60, 61, 62, 63, 64, 65, 66, 67, 68, 69, 70, 71, 72, 73, 74, 75, 76, 77]\n",
            "¿Fue posible obtener el entero requerido?: True\n",
            " El valor entero máximo alcanzado es:  77\n",
            " El valor entero mínimo alcanzado es:  -69\n"
          ],
          "name": "stdout"
        }
      ]
    },
    {
      "cell_type": "markdown",
      "metadata": {
        "id": "VusOKudNUnLN"
      },
      "source": [
        "Debe analizarse el problema para encontrar todos los valores enteros posibles planteando las siguientes cuestiones:\r\n",
        "- ¿Qué valor máximo y mínimo se pueden obtener según las condiciones del problema?\r\n",
        "\r\n",
        "Del análisis del algoritmo de fuerza bruta implementado se puede concluir que los valores máximos y mínimos son 77 y -69 respectivamente.\r\n",
        "\r\n",
        "\r\n",
        "- ¿Es posible encontrar todos los valores enteros posibles entre dicho mínimo y máximo?\r\n",
        "\r\n",
        "La ejecución del algoritmo fuerza_bruta(l_num, l_oper, valor) demuestra que sí es posible encontrar todos los valores enteros posibles entre 77 y -66."
      ]
    },
    {
      "cell_type": "markdown",
      "metadata": {
        "id": "tgrnsC2nkFa8"
      },
      "source": [
        "## Calcula la complejidad del algoritmo por fuerza bruta"
      ]
    },
    {
      "cell_type": "markdown",
      "metadata": {
        "id": "9eUd3xwckP68"
      },
      "source": [
        "Respuesta"
      ]
    },
    {
      "cell_type": "markdown",
      "metadata": {
        "id": "_qBAEVTvpJ1z"
      },
      "source": [
        "La complijidad del algoritmo de fuerza bruta desarrollado es de orden cuadrático O(n^2). La complejidad del mismo se define por la anidación de dos bucles for para recorrer todas las expresiones posibles que componen el espacio de soluciones. El resto de operaciones realizadas son asignaciones, operaciones matemáticas simples, condiciones y acceso a estructuras de datos. Estas operaciones no alteran la complejidad del mismo.\r\n",
        "\r\n",
        "En este caso, por las restricciones del problema, se tiene un espacio de soluciones acotado que hace factible el uso del algoritmo. En caso de que se modificasen las restricciones del problema y aumentasemos de manera significativa el espacio de soluciones probablemente el algoritmo de fuerza bruta diseñado dejaría de ser operativo y habría que explorar otros algoritmos para abordar el problema de forma mas eficiente."
      ]
    },
    {
      "cell_type": "markdown",
      "metadata": {
        "id": "txbrmLmskReM"
      },
      "source": [
        "## (*)Diseña un algoritmo que mejore la complejidad del algortimo por fuerza bruta. Argumenta porque crees que mejora el algoritmo por fuerza bruta"
      ]
    },
    {
      "cell_type": "markdown",
      "metadata": {
        "id": "hLrVwt5QkZPD"
      },
      "source": [
        "Respuesta"
      ]
    },
    {
      "cell_type": "markdown",
      "metadata": {
        "id": "8XMeLZBNCM3M"
      },
      "source": [
        "A continuación se implementa un algoritmo de búsqueda aleatoria (algoritmo heurístico), que si bien no asegura al 100% obtener la solución óptima, sí que permite calcular la probabilidad de obtener dicha solución en base al número de interaciones.\r\n",
        "\r\n",
        "El número de soluciones a generar para tener una probabilidad p de que la solución esté en el conjunto generado se define mediante:\r\n",
        "\r\n",
        "$$ n > log(1-p)/log(1-1/m)$$\r\n",
        "\r\n",
        "Este algoritmo permite llegar a la solución sin necesidad de recorrer el espacio completo de soluciones, mejorando de esta forma la eficiencia del mismo.\r\n",
        "\r\n"
      ]
    },
    {
      "cell_type": "code",
      "metadata": {
        "colab": {
          "base_uri": "https://localhost:8080/"
        },
        "id": "f004sdhWxNbK",
        "outputId": "9eec5ac0-99de-4348-cd1f-03c46eeffc28"
      },
      "source": [
        "import random\r\n",
        "import math\r\n",
        "\r\n",
        "# Generación de una solución aleatoria \r\n",
        "def gen_exp_aleatoria(n, o):\r\n",
        "    solution = []\r\n",
        "    numeros = n.copy()\r\n",
        "    operaciones = o.copy()\r\n",
        "\r\n",
        "    for _ in range(len(operaciones)):\r\n",
        "        nChoice = random.choice(numeros)\r\n",
        "        numeros.remove(nChoice)\r\n",
        "        oChoice = random.choice(operaciones)\r\n",
        "        operaciones.remove(oChoice)\r\n",
        "        solution.append(nChoice)\r\n",
        "        solution.append(oChoice)\r\n",
        "    solution.append(random.choice(numeros))\r\n",
        "    # print(solution)\r\n",
        "    resultado = eval(''.join(solution))\r\n",
        "\r\n",
        "    return  solution,resultado    \r\n",
        "\r\n",
        "# Calculamos la diferencia entre valor generado y valor deseado :\r\n",
        "def diferencia(valor_deseado, resultado):\r\n",
        "    return abs(valor_deseado - resultado)\r\n",
        "\r\n",
        "#\r\n",
        "o = [\"+\",'-','*','/']\r\n",
        "n = [\"1\",\"2\",\"3\",\"4\",\"5\",\"6\",\"7\",\"8\",\"9\"]\r\n",
        "solution, resultado = gen_exp_aleatoria(n, o)\r\n",
        "print(solution, ',', resultado)\r\n",
        "\r\n",
        "n = 10\r\n",
        "print(diferencia(n, resultado))"
      ],
      "execution_count": 11,
      "outputs": [
        {
          "output_type": "stream",
          "text": [
            "['1', '*', '9', '/', '6', '+', '4', '-', '7'] , -1.5\n",
            "11.5\n"
          ],
          "name": "stdout"
        }
      ]
    },
    {
      "cell_type": "code",
      "metadata": {
        "colab": {
          "base_uri": "https://localhost:8080/"
        },
        "id": "3p3Jo4cBxNYg",
        "outputId": "e3cea658-c9c9-487d-d1b2-0a526b4244fe"
      },
      "source": [
        "# Algoritmo para generar una búsqueda aleatoria\r\n",
        "def busqueda_aleatoria(target, iterations):\r\n",
        "  # inicialización de variables\r\n",
        "  n = [\"1\",\"2\",\"3\",\"4\",\"5\",\"6\",\"7\",\"8\",\"9\"]    \r\n",
        "  o = [\"+\",'-','*','/']\r\n",
        "  contador = 0\r\n",
        "  menor_diferencia = math.inf\r\n",
        "\r\n",
        "  # bucle para iterar n veces en busca de la solución óptima\r\n",
        "  while (contador < iterations): \r\n",
        "    # generación de una expresión aleatoria a evaluar   \r\n",
        "    expresion, res_eval = gen_exp_aleatoria(n, o)\r\n",
        "\r\n",
        "    # print(contador)\r\n",
        "    # print(expresion, ',',res_eval)\r\n",
        "\r\n",
        "    # print(n, o)\r\n",
        "    # actualiza_resultado = res_eval\r\n",
        "\r\n",
        "    # Si obtenemos el target hemos alcanzado la solución óptima\r\n",
        "    if res_eval == target:\r\n",
        "      # se actualizan los valores para cargar la salida de la función\r\n",
        "      menor_diferencia = 0\r\n",
        "      # mejor_solucion guarda la expresion\r\n",
        "      actualiza_exp = expresion\r\n",
        "      actualiza_resultado = target\r\n",
        "      \r\n",
        "      return actualiza_exp, actualiza_resultado, menor_diferencia, contador\r\n",
        "    # En caso de no dar con la solución óptima se evalua si la solución reportada mejora la última solución obtenida\r\n",
        "    # En caso afirmativo se guarda dicha solución para actualizar la comparación para futuras posibles soluciones\r\n",
        "    else:\r\n",
        "      diferencia_actual = diferencia(target, res_eval)\r\n",
        "      if menor_diferencia > diferencia_actual:\r\n",
        "        # Se actualiza el valor de menor diferencia para próximas iteraciones\r\n",
        "        menor_diferencia = diferencia_actual          \r\n",
        "        actualiza_exp = expresion\r\n",
        "        actualiza_resultado = res_eval\r\n",
        "    contador += 1\r\n",
        "\r\n",
        "  return actualiza_exp, actualiza_resultado, menor_diferencia, contador\r\n",
        "\r\n",
        "#=============================================================================================================================\r\n",
        "# Llamada a la función busqueda_aleatoria(target, iterations)\r\n",
        "mejor_solucion, valor_actual, menor_diferencia, contador = busqueda_aleatoria(25, 1000)\r\n",
        "print('======================================')\r\n",
        "print('El número de iteraciones realizadas para reportar el óptimo conseguido es: ', contador)\r\n",
        "print(\"La expresión que dió lugar al resultado deseado fue: \", ''.join(mejor_solucion))\r\n",
        "print(\"Valor del resultado alcanzado: \",valor_actual)\r\n",
        "print(\"Diferencia entre el target y el valor alcanzado: \",menor_diferencia)"
      ],
      "execution_count": 83,
      "outputs": [
        {
          "output_type": "stream",
          "text": [
            "======================================\n",
            "El número de iteraciones realizadas para reportar el óptimo conseguido es:  16\n",
            "La expresión que dió lugar al resultado deseado fue:  8/2+3*9-6\n",
            "Valor del resultado alcanzado:  25\n",
            "Diferencia entre el target y el valor alcanzado:  0\n"
          ],
          "name": "stdout"
        }
      ]
    },
    {
      "cell_type": "code",
      "metadata": {
        "id": "t0jAHSDYxYnX"
      },
      "source": [
        "# Recurso para medir tiempos de ejecución. (No lo estoy usando)\r\n",
        "# from time import time\r\n",
        "\r\n",
        "# #Función para calcular el tiempo de ejecución\r\n",
        "# def calcular_tiempo(f): \r\n",
        "#     def wrapper(*args, **kwargs):      \r\n",
        "#         inicio = time()       \r\n",
        "#         resultado = f(*args, **kwargs)       \r\n",
        "#         tiempo = time() - inicio\r\n",
        "#         print(\"Tiempo de ejecución para algoritmo: \"+str(tiempo))\r\n",
        "#         return resultado \r\n",
        "#     return wrapper"
      ],
      "execution_count": null,
      "outputs": []
    },
    {
      "cell_type": "markdown",
      "metadata": {
        "id": "eGDB4K6uk1iN"
      },
      "source": [
        "## (*)Calcula la complejidad del algoritmo "
      ]
    },
    {
      "cell_type": "markdown",
      "metadata": {
        "id": "NhpTh_BPk1ms"
      },
      "source": [
        "Respuesta"
      ]
    },
    {
      "cell_type": "markdown",
      "metadata": {
        "id": "C81klPAvQzRS"
      },
      "source": [
        "Al basar este algoritmo de búsqueda aleatoria en un número finito de iteraciones con la implementación de un bucle while la complejidad del mismo resulta ser de orden logarítmico O(log N).\r\n",
        "\r\n",
        "De esta forma se constata que el algorimo de búsqueda aleatoría mejora al de fuerza bruta en términos de complejidad:\r\n",
        "$$ O(log N) < O(n^2) $$\r\n"
      ]
    },
    {
      "cell_type": "markdown",
      "metadata": {
        "id": "3M6QjTsSkmYe"
      },
      "source": [
        "## Según el problema (y tenga sentido), diseña un juego de datos de entrada aleatorios"
      ]
    },
    {
      "cell_type": "markdown",
      "metadata": {
        "id": "Jc3_OlyNkvjZ"
      },
      "source": [
        "Respuesta"
      ]
    },
    {
      "cell_type": "code",
      "metadata": {
        "colab": {
          "base_uri": "https://localhost:8080/"
        },
        "id": "3h3nUCuLYkBb",
        "outputId": "b72f8835-9a12-41d5-fd0d-3c9d94a9dd0f"
      },
      "source": [
        "import random\r\n",
        "gen_targets = [random.randint(-69,77) for i in range(2)]\r\n",
        "gen_targets"
      ],
      "execution_count": 107,
      "outputs": [
        {
          "output_type": "execute_result",
          "data": {
            "text/plain": [
              "[54, -40]"
            ]
          },
          "metadata": {
            "tags": []
          },
          "execution_count": 107
        }
      ]
    },
    {
      "cell_type": "markdown",
      "metadata": {
        "id": "zy5ZROmjlGo1"
      },
      "source": [
        "## Aplica el algoritmo al juego de datos generado"
      ]
    },
    {
      "cell_type": "markdown",
      "metadata": {
        "id": "_Cmj-PVylMsa"
      },
      "source": [
        "Respuesta"
      ]
    },
    {
      "cell_type": "code",
      "metadata": {
        "id": "r9gNkn90ZYy1"
      },
      "source": [
        "iteraciones = 50000\r\n",
        "for i in gen_targets:\r\n",
        "  print(\"Target: \", i)\r\n",
        "  # Implementación por fuerza bruta\r\n",
        "  print('======================================')\r\n",
        "  print(\"Algoritmo Fuerza Bruta: \")\r\n",
        "  dic_sol, sol = fuerza_bruta(v_numeros, v_operaciones, i)\r\n",
        "  print(\"¿Fue posible obtener el entero requerido?:\", sol) \r\n",
        "  #Ejecutar esta instrucción para mostrar todas expresiones que dan lugar al entero deseado\r\n",
        "  print(\"Las expresiones dentro del espacio de soluciones que dan lugar al entero requerido son: \")\r\n",
        "  pprint(dic_sol[str(i)])\r\n",
        "\r\n",
        "  # Implementación mediante técnicas heurísticas\r\n",
        "  print('======================================')\r\n",
        "  print(\"Algoritmo Búsqueda Aleatoria: \")\r\n",
        "  mejor_solucion, valor_actual, menor_diferencia, contador = busqueda_aleatoria(i, iteraciones)\r\n",
        "  print('El número de iteraciones realizadas para reportar el óptimo conseguido es: ', contador)\r\n",
        "  print(\"La expresión que dió lugar al resultado deseado fue: \", ''.join(mejor_solucion))\r\n",
        "  print(\"Valor del resultado alcanzado: \",valor_actual)\r\n",
        "  print(\"Diferencia entre el target y el valor alcanzado: \",menor_diferencia, \"\\n\")\r\n",
        "\r\n"
      ],
      "execution_count": null,
      "outputs": []
    },
    {
      "cell_type": "markdown",
      "metadata": {
        "id": "eTFWUJQrtGcv"
      },
      "source": [
        "## Enumera las referencias que has utilizado(si ha sido necesario) para llevar a cabo el trabajo"
      ]
    },
    {
      "cell_type": "markdown",
      "metadata": {
        "id": "YKQ_mRBttWsP"
      },
      "source": [
        "Respuesta"
      ]
    },
    {
      "cell_type": "markdown",
      "metadata": {
        "id": "80OjNxtlVSwa"
      },
      "source": [
        "- Recursos de la asignatura Algoritmos de optimización\r\n",
        "- Recursos de la asignatura Matemáticas para la IA\r\n",
        "- Recursos de la asignatura Introducción a Python para el tratamiento de diccionarios y listas\r\n",
        "- Documentación oficial de Python\r\n",
        "- Recurso webs consultados: stackoverflow, GeeksforGeeks\r\n",
        "- Bibliografía:\r\n",
        "1. Fundamentos de algorimia: Una perspectiva de la ciencia de los computadores\r\n",
        "2. Introducción al diseño y análisis de algorimos\r\n",
        "3. Técnicas de diseño de algoritmos\r\n"
      ]
    },
    {
      "cell_type": "markdown",
      "metadata": {
        "id": "kAkDPUyRtYyH"
      },
      "source": [
        "Describe brevemente las lineas de como crees que es posible avanzar en el estudio del problema. Ten en cuenta incluso posibles variaciones del problema y/o variaciones al alza del tamaño"
      ]
    },
    {
      "cell_type": "markdown",
      "metadata": {
        "id": "IE0uZmo-tZu-"
      },
      "source": [
        "Respuesta"
      ]
    },
    {
      "cell_type": "markdown",
      "metadata": {
        "id": "J60FyVLWfjKr"
      },
      "source": [
        "Una vez comprabado que se puede mejorar la eficiencia usando técnicas heurísticas para resolver el problema las mejoras a implementar serían explorar las distintas opciones que mejoran los resultados obtenidos mediante búsqueda aleatoria. \r\n",
        "\r\n",
        "En la búsqueda de la mejora perseguida sería interesante implementar los métodos basados en trayectorias:\r\n",
        "- Búsqueda local\r\n",
        "- Enfriamiento simulado\r\n",
        "- Búsqueda tabú\r\n",
        "\r\n",
        "Siguiendo con esta línea de investigación también sería interesante implementar algoritmos basados en poblaciones:\r\n",
        "- Genéticos\r\n",
        "- Evolutivos\r\n",
        "- ...\r\n"
      ]
    }
  ]
}